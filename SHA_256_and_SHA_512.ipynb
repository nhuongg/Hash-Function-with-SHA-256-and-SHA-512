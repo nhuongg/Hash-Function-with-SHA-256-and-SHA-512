{
  "cells": [
    {
      "cell_type": "code",
      "source": [
        "!pip install pycryptodome"
      ],
      "metadata": {
        "colab": {
          "base_uri": "https://localhost:8080/"
        },
        "id": "KM1DrJxaKjh4",
        "outputId": "27b2f937-cb91-45ff-b107-851bc4b9036e"
      },
      "execution_count": 2,
      "outputs": [
        {
          "output_type": "stream",
          "name": "stdout",
          "text": [
            "Collecting pycryptodome\n",
            "  Downloading pycryptodome-3.23.0-cp37-abi3-manylinux_2_17_x86_64.manylinux2014_x86_64.whl.metadata (3.4 kB)\n",
            "Downloading pycryptodome-3.23.0-cp37-abi3-manylinux_2_17_x86_64.manylinux2014_x86_64.whl (2.3 MB)\n",
            "\u001b[?25l   \u001b[90m━━━━━━━━━━━━━━━━━━━━━━━━━━━━━━━━━━━━━━━━\u001b[0m \u001b[32m0.0/2.3 MB\u001b[0m \u001b[31m?\u001b[0m eta \u001b[36m-:--:--\u001b[0m\r\u001b[2K   \u001b[91m━━━━━\u001b[0m\u001b[91m╸\u001b[0m\u001b[90m━━━━━━━━━━━━━━━━━━━━━━━━━━━━━━━━━━\u001b[0m \u001b[32m0.3/2.3 MB\u001b[0m \u001b[31m10.0 MB/s\u001b[0m eta \u001b[36m0:00:01\u001b[0m\r\u001b[2K   \u001b[91m━━━━━━━━━━━━━━━━━━━━━━━━━━━━━━━━━━━━━━━\u001b[0m\u001b[91m╸\u001b[0m \u001b[32m2.3/2.3 MB\u001b[0m \u001b[31m37.3 MB/s\u001b[0m eta \u001b[36m0:00:01\u001b[0m\r\u001b[2K   \u001b[90m━━━━━━━━━━━━━━━━━━━━━━━━━━━━━━━━━━━━━━━━\u001b[0m \u001b[32m2.3/2.3 MB\u001b[0m \u001b[31m26.6 MB/s\u001b[0m eta \u001b[36m0:00:00\u001b[0m\n",
            "\u001b[?25hInstalling collected packages: pycryptodome\n",
            "Successfully installed pycryptodome-3.23.0\n"
          ]
        }
      ]
    },
    {
      "cell_type": "code",
      "source": [
        "!pip install flask pyngrok pycryptodome"
      ],
      "metadata": {
        "colab": {
          "base_uri": "https://localhost:8080/"
        },
        "id": "J72tNOqbKrfw",
        "outputId": "378c2b79-b05b-49ee-8ba5-fd1969f6b4de"
      },
      "execution_count": 3,
      "outputs": [
        {
          "output_type": "stream",
          "name": "stdout",
          "text": [
            "Requirement already satisfied: flask in /usr/local/lib/python3.11/dist-packages (3.1.1)\n",
            "Collecting pyngrok\n",
            "  Downloading pyngrok-7.2.9-py3-none-any.whl.metadata (9.3 kB)\n",
            "Requirement already satisfied: pycryptodome in /usr/local/lib/python3.11/dist-packages (3.23.0)\n",
            "Requirement already satisfied: blinker>=1.9.0 in /usr/local/lib/python3.11/dist-packages (from flask) (1.9.0)\n",
            "Requirement already satisfied: click>=8.1.3 in /usr/local/lib/python3.11/dist-packages (from flask) (8.2.1)\n",
            "Requirement already satisfied: itsdangerous>=2.2.0 in /usr/local/lib/python3.11/dist-packages (from flask) (2.2.0)\n",
            "Requirement already satisfied: jinja2>=3.1.2 in /usr/local/lib/python3.11/dist-packages (from flask) (3.1.6)\n",
            "Requirement already satisfied: markupsafe>=2.1.1 in /usr/local/lib/python3.11/dist-packages (from flask) (3.0.2)\n",
            "Requirement already satisfied: werkzeug>=3.1.0 in /usr/local/lib/python3.11/dist-packages (from flask) (3.1.3)\n",
            "Requirement already satisfied: PyYAML>=5.1 in /usr/local/lib/python3.11/dist-packages (from pyngrok) (6.0.2)\n",
            "Downloading pyngrok-7.2.9-py3-none-any.whl (25 kB)\n",
            "Installing collected packages: pyngrok\n",
            "Successfully installed pyngrok-7.2.9\n"
          ]
        }
      ]
    },
    {
      "cell_type": "code",
      "source": [
        "from flask import Flask, request, render_template_string\n",
        "import hashlib\n",
        "from pyngrok import conf, ngrok\n",
        "import os\n",
        "\n",
        "app = Flask(__name__)\n",
        "os.environ[\"NGROK_AUTH_TOKEN\"] = \"2ujCdDkaOVBkBmrqIRJACyVCwRD_2nF1MMtFrfkdkjTpKxkJT\"\n",
        "conf.get_default().auth_token = os.environ[\"NGROK_AUTH_TOKEN\"]\n",
        "\n",
        "\n",
        "# Function to hash data using SHA-256\n",
        "def hash_sha256(data: bytes) -> str:\n",
        "    \"\"\"\n",
        "    Hashes the given bytes data using SHA-256 algorithm.\n",
        "\n",
        "    Args:\n",
        "        data: The bytes data to be hashed.\n",
        "\n",
        "    Returns:\n",
        "        A hexadecimal string representation of the SHA-256 hash.\n",
        "    \"\"\"\n",
        "    sha256_hash = hashlib.sha256()\n",
        "    sha256_hash.update(data)\n",
        "    return sha256_hash.hexdigest()\n",
        "\n",
        "# Function to hash data using SHA-512\n",
        "def hash_sha512(data: bytes) -> str:\n",
        "    \"\"\"\n",
        "    Hashes the given bytes data using SHA-512 algorithm.\n",
        "\n",
        "    Args:\n",
        "        data: The bytes data to be hashed.\n",
        "\n",
        "    Returns:\n",
        "        A hexadecimal string representation of the SHA-512 hash.\n",
        "    \"\"\"\n",
        "    sha512_hash = hashlib.sha512()\n",
        "    sha512_hash.update(data)\n",
        "    return sha512_hash.hexdigest()\n",
        "\n",
        "# HTML web interface\n",
        "HTML = '''\n",
        "<!DOCTYPE html>\n",
        "<html lang=\"vi\">\n",
        "<head>\n",
        "    <meta charset=\"UTF-8\">\n",
        "    <meta name=\"viewport\" content=\"width=device-width, initial-scale=1.0\">\n",
        "    <title>Băm dữ liệu bằng SHA-256 và SHA-512</title>\n",
        "    <style>\n",
        "        body {\n",
        "            font-family: 'Segoe UI', sans-serif;\n",
        "            background: linear-gradient(to right, #232526, #ce1313);\n",
        "            display: flex;\n",
        "            justify-content: center;\n",
        "            align-items: center;\n",
        "            min-height: 100vh;\n",
        "            margin: 0;\n",
        "            padding: 20px;\n",
        "            box-sizing: border-box;\n",
        "        }\n",
        "        .container {\n",
        "            background: #ffffffcc;\n",
        "            backdrop-filter: blur(5px);\n",
        "            padding: 30px 40px;\n",
        "            border-radius: 16px;\n",
        "            box-shadow: 0 8px 24px rgba(0, 0, 0, 0.2);\n",
        "            width: 100%;\n",
        "            max-width: 600px; /* Increased max-width to accommodate two hash results */\n",
        "            box-sizing: border-box;\n",
        "        }\n",
        "        h2 {\n",
        "            text-align: center;\n",
        "            margin-bottom: 25px;\n",
        "            color: #333;\n",
        "        }\n",
        "        p {\n",
        "            margin: 10px 0;\n",
        "            font-weight: bold;\n",
        "        }\n",
        "        input[type=\"file\"], select, button {\n",
        "            width: 100%;\n",
        "            padding: 10px 12px;\n",
        "            margin-top: 6px;\n",
        "            border-radius: 8px;\n",
        "            border: 1px solid #ccc;\n",
        "            box-sizing: border-box;\n",
        "            font-size: 14px;\n",
        "        }\n",
        "        button {\n",
        "            background: linear-gradient(to right, #232526, #ce1313);\n",
        "            color: white;\n",
        "            font-weight: bold;\n",
        "            border: none;\n",
        "            cursor: pointer;\n",
        "            margin-top: 20px;\n",
        "            transition: background 0.3s ease;\n",
        "        }\n",
        "        button:hover {\n",
        "            background: linear-gradient(to right, #5b86e5, #36d1dc);\n",
        "        }\n",
        "        .result-box {\n",
        "            background-color: #f0f0f0;\n",
        "            border: 1px solid #ddd;\n",
        "            border-radius: 8px;\n",
        "            padding: 15px;\n",
        "            margin-top: 25px;\n",
        "            word-break: break-all;\n",
        "            font-family: 'Consolas', 'Courier New', monospace;\n",
        "            color: #333;\n",
        "            font-size: 0.9em;\n",
        "        }\n",
        "        .result-box strong {\n",
        "            display: block;\n",
        "            margin-bottom: 5px;\n",
        "            color: #555;\n",
        "        }\n",
        "        .error {\n",
        "            color: red;\n",
        "            font-weight: bold;\n",
        "            margin-top: 15px;\n",
        "            text-align: center;\n",
        "        }\n",
        "    </style>\n",
        "</head>\n",
        "<body>\n",
        "    <div class=\"container\">\n",
        "        <h2>Băm dữ liệu bằng SHA-256/SHA-512</h2>\n",
        "        <form method=\"POST\" enctype=\"multipart/form-data\">\n",
        "            <p>Chọn file:\n",
        "            <input type=\"file\" name=\"file\" required></p>\n",
        "\n",
        "            <p>Thuật toán băm:\n",
        "            <select name=\"algorithm\" required>\n",
        "                <option value=\"sha256\">SHA-256</option>\n",
        "                <option value=\"sha512\">SHA-512</option>\n",
        "            </select></p>\n",
        "\n",
        "            <button type=\"submit\">Thực hiện băm</button>\n",
        "        </form>\n",
        "\n",
        "        {% if original_hashed_result %}\n",
        "            <div class=\"result-box\">\n",
        "                <strong>Kết quả băm gốc ({{ algorithm }}):</strong>\n",
        "                <p>{{ original_hashed_result }}</p>\n",
        "            </div>\n",
        "            <div class=\"result-box\">\n",
        "                <strong>Kết quả băm đã sửa đổi ({{ algorithm }} - thêm một ký tự):</strong>\n",
        "                <p>{{ modified_hashed_result }}</p>\n",
        "            </div>\n",
        "        {% endif %}\n",
        "\n",
        "        {% if error %}\n",
        "            <div class=\"error\">{{ error }}</div>\n",
        "        {% endif %}\n",
        "    </div>\n",
        "</body>\n",
        "</html>\n",
        "'''\n",
        "\n",
        "@app.route('/', methods=['GET', 'POST'])\n",
        "def home():\n",
        "    \"\"\"\n",
        "    Handles the home route, displaying the form and processing file uploads for hashing.\n",
        "    It calculates hashes for both the original and a slightly modified version of the data.\n",
        "    \"\"\"\n",
        "    error = None\n",
        "    original_hashed_result = None\n",
        "    modified_hashed_result = None\n",
        "    algorithm_used = None\n",
        "\n",
        "    if request.method == 'POST':\n",
        "        if 'file' not in request.files:\n",
        "            error = \"Không có file nào được chọn.\"\n",
        "        else:\n",
        "            f = request.files['file']\n",
        "            if f.filename == '':\n",
        "                error = \"Không có file nào được chọn.\"\n",
        "            else:\n",
        "                algorithm = request.form.get('algorithm', 'sha256') # Default to sha256\n",
        "                original_data = f.read() # Read the original file content as bytes\n",
        "\n",
        "                # Create a slightly modified version of the data\n",
        "                # For demonstration, we'll append a single newline byte.\n",
        "                # In a real scenario, this could be any small, intentional change.\n",
        "                modified_data = original_data + b'\\n'\n",
        "\n",
        "                try:\n",
        "                    if algorithm == 'sha256':\n",
        "                        original_hashed_result = hash_sha256(original_data)\n",
        "                        modified_hashed_result = hash_sha256(modified_data)\n",
        "                        algorithm_used = \"SHA-256\"\n",
        "                    elif algorithm == 'sha512':\n",
        "                        original_hashed_result = hash_sha512(original_data)\n",
        "                        modified_hashed_result = hash_sha512(modified_data)\n",
        "                        algorithm_used = \"SHA-512\"\n",
        "                    else:\n",
        "                        error = \"Thuật toán băm không hợp lệ.\"\n",
        "                except Exception as e:\n",
        "                    error = f\"Lỗi trong quá trình băm: {e}\"\n",
        "\n",
        "    # Render the HTML template, passing the results and error messages\n",
        "    return render_template_string(\n",
        "        HTML,\n",
        "        original_hashed_result=original_hashed_result,\n",
        "        modified_hashed_result=modified_hashed_result,\n",
        "        algorithm=algorithm_used,\n",
        "        error=error\n",
        "    )\n",
        "\n",
        "try:\n",
        "    ngrok.kill()\n",
        "    public_url = ngrok.connect(5000).public_url\n",
        "    print(f\"📌 Truy cập web tại: {public_url}\")\n",
        "except Exception as e:\n",
        "    print(f\"Lỗi khi khởi tạo ngrok: {e}\")\n",
        "    public_url = \"Ngrok không thể khởi tạo.\"\n",
        "\n",
        "app.run(port=5000, use_reloader=False)\n"
      ],
      "outputs": [
        {
          "output_type": "stream",
          "name": "stdout",
          "text": [
            "📌 Truy cập web tại: https://471f-34-125-79-167.ngrok-free.app\n",
            " * Serving Flask app '__main__'\n",
            " * Debug mode: off\n"
          ]
        },
        {
          "output_type": "stream",
          "name": "stderr",
          "text": [
            "INFO:werkzeug:\u001b[31m\u001b[1mWARNING: This is a development server. Do not use it in a production deployment. Use a production WSGI server instead.\u001b[0m\n",
            " * Running on http://127.0.0.1:5000\n",
            "INFO:werkzeug:\u001b[33mPress CTRL+C to quit\u001b[0m\n",
            "INFO:werkzeug:127.0.0.1 - - [31/May/2025 02:13:41] \"GET / HTTP/1.1\" 200 -\n",
            "INFO:werkzeug:127.0.0.1 - - [31/May/2025 02:13:41] \"\u001b[33mGET /favicon.ico HTTP/1.1\u001b[0m\" 404 -\n",
            "INFO:werkzeug:127.0.0.1 - - [31/May/2025 02:14:06] \"POST / HTTP/1.1\" 200 -\n",
            "INFO:werkzeug:127.0.0.1 - - [31/May/2025 02:15:01] \"POST / HTTP/1.1\" 200 -\n",
            "INFO:werkzeug:127.0.0.1 - - [31/May/2025 02:15:03] \"GET / HTTP/1.1\" 200 -\n"
          ]
        }
      ],
      "execution_count": 4,
      "metadata": {
        "colab": {
          "base_uri": "https://localhost:8080/"
        },
        "id": "GykM3OnnKavt",
        "outputId": "f25277c9-46ee-4b67-cb3e-f1a3cd704586"
      }
    },
    {
      "cell_type": "code",
      "source": [
        "from google.colab import drive\n",
        "drive.mount('/content/drive')"
      ],
      "metadata": {
        "colab": {
          "base_uri": "https://localhost:8080/"
        },
        "id": "ugaiAnATnFsM",
        "outputId": "63e6eb05-ccc3-4eab-84dd-5694cbb708dc"
      },
      "execution_count": 1,
      "outputs": [
        {
          "output_type": "stream",
          "name": "stdout",
          "text": [
            "Mounted at /content/drive\n"
          ]
        }
      ]
    }
  ],
  "metadata": {
    "colab": {
      "provenance": []
    },
    "kernelspec": {
      "display_name": "Python 3",
      "name": "python3"
    }
  },
  "nbformat": 4,
  "nbformat_minor": 0
}